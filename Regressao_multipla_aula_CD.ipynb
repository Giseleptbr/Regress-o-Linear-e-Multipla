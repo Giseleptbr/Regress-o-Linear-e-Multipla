{
  "nbformat": 4,
  "nbformat_minor": 0,
  "metadata": {
    "colab": {
      "provenance": []
    },
    "kernelspec": {
      "name": "python3",
      "display_name": "Python 3"
    },
    "language_info": {
      "name": "python"
    }
  },
  "cells": [
    {
      "cell_type": "code",
      "source": [
        "!pip install statsmodels"
      ],
      "metadata": {
        "colab": {
          "base_uri": "https://localhost:8080/"
        },
        "id": "YYZaEurt0n6W",
        "outputId": "5edde37d-9ba2-4cbb-b7ce-77f0a9cb4755"
      },
      "execution_count": null,
      "outputs": [
        {
          "output_type": "stream",
          "name": "stdout",
          "text": [
            "Requirement already satisfied: statsmodels in /usr/local/lib/python3.10/dist-packages (0.14.4)\n",
            "Requirement already satisfied: numpy<3,>=1.22.3 in /usr/local/lib/python3.10/dist-packages (from statsmodels) (1.26.4)\n",
            "Requirement already satisfied: scipy!=1.9.2,>=1.8 in /usr/local/lib/python3.10/dist-packages (from statsmodels) (1.13.1)\n",
            "Requirement already satisfied: pandas!=2.1.0,>=1.4 in /usr/local/lib/python3.10/dist-packages (from statsmodels) (2.2.2)\n",
            "Requirement already satisfied: patsy>=0.5.6 in /usr/local/lib/python3.10/dist-packages (from statsmodels) (0.5.6)\n",
            "Requirement already satisfied: packaging>=21.3 in /usr/local/lib/python3.10/dist-packages (from statsmodels) (24.1)\n",
            "Requirement already satisfied: python-dateutil>=2.8.2 in /usr/local/lib/python3.10/dist-packages (from pandas!=2.1.0,>=1.4->statsmodels) (2.8.2)\n",
            "Requirement already satisfied: pytz>=2020.1 in /usr/local/lib/python3.10/dist-packages (from pandas!=2.1.0,>=1.4->statsmodels) (2024.2)\n",
            "Requirement already satisfied: tzdata>=2022.7 in /usr/local/lib/python3.10/dist-packages (from pandas!=2.1.0,>=1.4->statsmodels) (2024.2)\n",
            "Requirement already satisfied: six in /usr/local/lib/python3.10/dist-packages (from patsy>=0.5.6->statsmodels) (1.16.0)\n"
          ]
        }
      ]
    },
    {
      "cell_type": "code",
      "execution_count": null,
      "metadata": {
        "colab": {
          "base_uri": "https://localhost:8080/",
          "height": 106
        },
        "id": "3eFZBtSx0IvR",
        "outputId": "8d6d8ddd-cb6a-45a7-d7dd-80aebf8601df"
      },
      "outputs": [
        {
          "output_type": "error",
          "ename": "SyntaxError",
          "evalue": "invalid syntax (<ipython-input-8-e58d9271f43b>, line 4)",
          "traceback": [
            "\u001b[0;36m  File \u001b[0;32m\"<ipython-input-8-e58d9271f43b>\"\u001b[0;36m, line \u001b[0;32m4\u001b[0m\n\u001b[0;31m    x1 =\u001b[0m\n\u001b[0m        ^\u001b[0m\n\u001b[0;31mSyntaxError\u001b[0m\u001b[0;31m:\u001b[0m invalid syntax\n"
          ]
        }
      ],
      "source": [
        "import numpy as np\n",
        "import statsmodels.api as sm\n"
      ]
    },
    {
      "cell_type": "code",
      "source": [
        "x1 = np.array([155,150,180,135,156,168,178,160,132,145,139,152,50,48,45,185,123,192,177,162])\n",
        "#altura, cm\n",
        "x2 = np.array([50,49,31,40,20,29,36,80,79,45,18,51,0.5,0.4,0.4,24,28,33,46,19]) # idade\n",
        "y = np.array([70,63,72,60,66,70,74,65,62,67,65,68,5.1,4.8,4.7,82,55,93,72,64]) # peso\n",
        "x = np.column_stack((x1,x2)) # agrupa as independentes em uma matriz\n",
        "x = sm.add_constant(x, prepend=True) # adiciona a coluna das constantes\n",
        "res = sm.OLS(y,x).fit() # cria e busca o fit do modelo\n",
        "print (res.summary())"
      ],
      "metadata": {
        "colab": {
          "base_uri": "https://localhost:8080/"
        },
        "id": "HpcYTdeh0xm6",
        "outputId": "83c3fb14-b6b9-4af7-ae8d-3e13c7e5cd20"
      },
      "execution_count": null,
      "outputs": [
        {
          "output_type": "stream",
          "name": "stdout",
          "text": [
            "                            OLS Regression Results                            \n",
            "==============================================================================\n",
            "Dep. Variable:                      y   R-squared:                       0.961\n",
            "Model:                            OLS   Adj. R-squared:                  0.956\n",
            "Method:                 Least Squares   F-statistic:                     207.8\n",
            "Date:                Tue, 15 Oct 2024   Prob (F-statistic):           1.13e-12\n",
            "Time:                        20:19:38   Log-Likelihood:                -59.657\n",
            "No. Observations:                  20   AIC:                             125.3\n",
            "Df Residuals:                      17   BIC:                             128.3\n",
            "Df Model:                           2                                         \n",
            "Covariance Type:            nonrobust                                         \n",
            "==============================================================================\n",
            "                 coef    std err          t      P>|t|      [0.025      0.975]\n",
            "------------------------------------------------------------------------------\n",
            "const        -17.6905      3.968     -4.458      0.000     -26.063      -9.319\n",
            "x1             0.5218      0.031     16.641      0.000       0.456       0.588\n",
            "x2             0.0862      0.062      1.380      0.185      -0.046       0.218\n",
            "==============================================================================\n",
            "Omnibus:                        1.705   Durbin-Watson:                   1.446\n",
            "Prob(Omnibus):                  0.426   Jarque-Bera (JB):                0.985\n",
            "Skew:                           0.121   Prob(JB):                        0.611\n",
            "Kurtosis:                       1.940   Cond. No.                         522.\n",
            "==============================================================================\n",
            "\n",
            "Notes:\n",
            "[1] Standard Errors assume that the covariance matrix of the errors is correctly specified.\n"
          ]
        }
      ]
    },
    {
      "cell_type": "code",
      "source": [
        "# Vamos adicionar “salário” como mais uma variável independente\n",
        "x3 = np.array([5100,4900,3100,4000,2500,2900,3600,8000,7900,4500,1800,5100,0,0,0,2400,2800,3300,4600,1900])\n",
        "x = np.column_stack((x1,x2,x3))\n",
        "x = sm.add_constant(x, prepend=True)\n",
        "res = sm.OLS(y,x).fit()\n",
        "print (res.summary())"
      ],
      "metadata": {
        "colab": {
          "base_uri": "https://localhost:8080/"
        },
        "id": "-miVh7nz1j4T",
        "outputId": "88172c8b-1bc3-445f-80b4-7180d31cba1f"
      },
      "execution_count": null,
      "outputs": [
        {
          "output_type": "stream",
          "name": "stdout",
          "text": [
            "                            OLS Regression Results                            \n",
            "==============================================================================\n",
            "Dep. Variable:                      y   R-squared:                       0.961\n",
            "Model:                            OLS   Adj. R-squared:                  0.954\n",
            "Method:                 Least Squares   F-statistic:                     131.3\n",
            "Date:                Tue, 15 Oct 2024   Prob (F-statistic):           1.77e-11\n",
            "Time:                        20:20:10   Log-Likelihood:                -59.591\n",
            "No. Observations:                  20   AIC:                             127.2\n",
            "Df Residuals:                      16   BIC:                             131.2\n",
            "Df Model:                           3                                         \n",
            "Covariance Type:            nonrobust                                         \n",
            "==============================================================================\n",
            "                 coef    std err          t      P>|t|      [0.025      0.975]\n",
            "------------------------------------------------------------------------------\n",
            "const        -17.4850      4.125     -4.239      0.001     -26.230      -8.740\n",
            "x1             0.5190      0.033     15.550      0.000       0.448       0.590\n",
            "x2            -0.2668      1.085     -0.246      0.809      -2.567       2.033\n",
            "x3             0.0036      0.011      0.326      0.749      -0.020       0.027\n",
            "==============================================================================\n",
            "Omnibus:                        1.473   Durbin-Watson:                   1.458\n",
            "Prob(Omnibus):                  0.479   Jarque-Bera (JB):                0.965\n",
            "Skew:                           0.190   Prob(JB):                        0.617\n",
            "Kurtosis:                       1.993   Cond. No.                     1.41e+04\n",
            "==============================================================================\n",
            "\n",
            "Notes:\n",
            "[1] Standard Errors assume that the covariance matrix of the errors is correctly specified.\n",
            "[2] The condition number is large, 1.41e+04. This might indicate that there are\n",
            "strong multicollinearity or other numerical problems.\n"
          ]
        }
      ]
    },
    {
      "cell_type": "code",
      "source": [
        "import pandas as pd\n",
        "Dados = {'Altura' : x1, 'Idade' : x2, 'Salário' : x3}\n",
        "# cria um dicionário\n",
        "Matriz = pd.DataFrame (Dados, columns = ['Altura',\n",
        "'Idade', 'Salário']) # transforma em dataframe pandas\n",
        "print (Matriz.corr(method='pearson')) # imprime matriz de correlações"
      ],
      "metadata": {
        "colab": {
          "base_uri": "https://localhost:8080/"
        },
        "id": "ebxU7mR71pnD",
        "outputId": "c5a4cf6a-9959-4534-8bee-f306a7494dbd"
      },
      "execution_count": null,
      "outputs": [
        {
          "output_type": "stream",
          "name": "stdout",
          "text": [
            "           Altura     Idade   Salário\n",
            "Altura   1.000000  0.520928  0.531803\n",
            "Idade    0.520928  1.000000  0.998652\n",
            "Salário  0.531803  0.998652  1.000000\n"
          ]
        }
      ]
    },
    {
      "cell_type": "code",
      "source": [
        "from statsmodels.stats.outliers_influence import variance_inflation_factor\n",
        "VIF_Data = pd.DataFrame ()\n",
        "VIF_Data[\"features\"] = Matriz.columns\n",
        "VIF_Data[\"VIF\"] = [variance_inflation_factor (Matriz.values, i)\n",
        "for i in range (len (Matriz.columns))]\n",
        "print (VIF_Data) # forte correlação entre as variaveis independentes (alta colineariedade) - acima de 5 - potencialo problema"
      ],
      "metadata": {
        "colab": {
          "base_uri": "https://localhost:8080/"
        },
        "id": "boTn01io1v82",
        "outputId": "35e3fc93-92d2-40bd-bc7e-7699726a73c6"
      },
      "execution_count": null,
      "outputs": [
        {
          "output_type": "stream",
          "name": "stdout",
          "text": [
            "  features          VIF\n",
            "0   Altura     5.024889\n",
            "1    Idade  1319.958112\n",
            "2  Salário  1352.432291\n"
          ]
        }
      ]
    }
  ]
}