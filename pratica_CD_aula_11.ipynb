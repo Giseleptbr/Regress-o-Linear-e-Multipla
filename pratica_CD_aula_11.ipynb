{
  "cells": [
    {
      "cell_type": "markdown",
      "metadata": {
        "id": "gpXhKmqxnIgY"
      },
      "source": [
        "Regressão Linear em Python"
      ]
    },
    {
      "cell_type": "code",
      "execution_count": null,
      "metadata": {
        "colab": {
          "base_uri": "https://localhost:8080/"
        },
        "id": "j_mGWb-5Hj2s",
        "outputId": "ca4b8659-6ae3-45c9-c1d4-5b3f880b0ce9"
      },
      "outputs": [
        {
          "name": "stdout",
          "output_type": "stream",
          "text": [
            "Requirement already satisfied: statsmodels in /usr/local/lib/python3.10/dist-packages (0.14.4)\n",
            "Requirement already satisfied: numpy<3,>=1.22.3 in /usr/local/lib/python3.10/dist-packages (from statsmodels) (1.26.4)\n",
            "Requirement already satisfied: scipy!=1.9.2,>=1.8 in /usr/local/lib/python3.10/dist-packages (from statsmodels) (1.13.1)\n",
            "Requirement already satisfied: pandas!=2.1.0,>=1.4 in /usr/local/lib/python3.10/dist-packages (from statsmodels) (2.2.2)\n",
            "Requirement already satisfied: patsy>=0.5.6 in /usr/local/lib/python3.10/dist-packages (from statsmodels) (0.5.6)\n",
            "Requirement already satisfied: packaging>=21.3 in /usr/local/lib/python3.10/dist-packages (from statsmodels) (24.1)\n",
            "Requirement already satisfied: python-dateutil>=2.8.2 in /usr/local/lib/python3.10/dist-packages (from pandas!=2.1.0,>=1.4->statsmodels) (2.8.2)\n",
            "Requirement already satisfied: pytz>=2020.1 in /usr/local/lib/python3.10/dist-packages (from pandas!=2.1.0,>=1.4->statsmodels) (2024.2)\n",
            "Requirement already satisfied: tzdata>=2022.7 in /usr/local/lib/python3.10/dist-packages (from pandas!=2.1.0,>=1.4->statsmodels) (2024.2)\n",
            "Requirement already satisfied: six in /usr/local/lib/python3.10/dist-packages (from patsy>=0.5.6->statsmodels) (1.16.0)\n",
            "Requirement already satisfied: scipy in /usr/local/lib/python3.10/dist-packages (1.13.1)\n",
            "Requirement already satisfied: numpy<2.3,>=1.22.4 in /usr/local/lib/python3.10/dist-packages (from scipy) (1.26.4)\n"
          ]
        }
      ],
      "source": [
        "!pip install statsmodels\n",
        "!pip install scipy"
      ]
    },
    {
      "cell_type": "code",
      "execution_count": null,
      "metadata": {
        "id": "eVyO1NIjlYbJ"
      },
      "outputs": [],
      "source": [
        "import numpy as np\n",
        "from scipy import stats\n",
        "import matplotlib.pyplot as plt"
      ]
    },
    {
      "cell_type": "code",
      "execution_count": null,
      "metadata": {
        "id": "bpcczd2enTo6"
      },
      "outputs": [],
      "source": [
        "# Define vetores altura (x, em cm) e peso (y, em kg)\n",
        "x = np.array([155,150,180,135,156,168,178,160,132,145,139,152,50,48,45])\n",
        "y = np.array([70,63,72,60,66,70,74,65,62,67,65,68,5.1,4.8,4.7])"
      ]
    },
    {
      "cell_type": "code",
      "execution_count": null,
      "metadata": {
        "id": "x7dPVAfCpPbr"
      },
      "outputs": [],
      "source": [
        "Parametros = np.polyfit(x,y,1) # calcula os valores do intercepto e a inclinação\n",
        "YPred = Parametros[0] * x + Parametros[1] # calcula os valores preditos\n",
        "YResid = y - YPred # resíduo = valor real - valor pred\n",
        "SQResid = sum(pow(YResid,2)) # quadrados dos resíduos\n",
        "SQTotal = len(y) * np.var(y) # número de elementos do vetor y vezes a variância de y\n",
        "R2 = 1 - SQResid/SQTotal # coeficiente de determinação\n",
        "print(Parametros) # imprime a inclinação e o intercepto\n",
        "print(R2) # imprime coeficiente de determinação"
      ]
    },
    {
      "cell_type": "code",
      "execution_count": null,
      "metadata": {
        "colab": {
          "base_uri": "https://localhost:8080/",
          "height": 484
        },
        "id": "h9iaD-mIpb8D",
        "outputId": "dfd0a25a-b8e5-43ce-c97b-4deff4a22a3d"
      },
      "outputs": [
        {
          "data": {
            "image/png": "[encoded data removed]",
            "text/plain": [
              "<Figure size 640x480 with 1 Axes>"
            ]
          },
          "metadata": {},
          "output_type": "display_data"
        },
        {
          "name": "stdout",
          "output_type": "stream",
          "text": [
            "PearsonRResult(statistic=0.863234434919584, pvalue=0.0002981821075657144)\n",
            "R2 0.7451736896309334\n"
          ]
        }
      ],
      "source": [
        "# Vamos plotar o gráfico com a reta de regressão\n",
        "plt.plot(x,y,'o')\n",
        "plt.plot(x,np.polyval(Parametros,x),'g--')\n",
        "plt.xlabel(\"x\")\n",
        "plt.ylabel(\"y\")\n",
        "plt.show()\n",
        "# Correlação de Pearson\n",
        "d = stats.pearsonr(x,y)\n",
        "print (d)\n",
        "print ('R2', d[0] ** 2)"
      ]
    },
    {
      "cell_type": "code",
      "execution_count": null,
      "metadata": {
        "colab": {
          "background_save": true,
          "base_uri": "https://localhost:8080/"
        },
        "id": "G7fgU45Hpfol",
        "outputId": "8342afd8-47dc-41ab-bbf4-6ee2c2bedff3"
      },
      "outputs": [
        {
          "name": "stdout",
          "output_type": "stream",
          "text": [
            "Para a altura de 200cm, o peso médio estimado será 77.5kg\n",
            "\n"
          ]
        }
      ],
      "source": [
        "# Vamos usar a regressão para predição\n",
        "XHipotetico = 1\n",
        "while XHipotetico:\n",
        "  XHipotetico = int(input('Entre com o valor da altura (cm): '))\n",
        "  try:\n",
        "    YPredito = round (Parametros[1] + Parametros[0] * XHipotetico, 1) # calcula o y predito\n",
        "    print ('Para a altura de '+ str(XHipotetico)+'cm, o peso médio estimado será '+str(YPredito)+'kg\\n')\n",
        "  except:\n",
        "    print ('Erro')"
      ]
    },
    {
      "cell_type": "code",
      "execution_count": null,
      "metadata": {
        "id": "KiQX7vZfxrpw"
      },
      "outputs": [],
      "source": []
    }
  ],
  "metadata": {
    "colab": {
      "provenance": []
    },
    "kernelspec": {
      "display_name": "Python 3",
      "name": "python3"
    },
    "language_info": {
      "name": "python"
    }
  },
  "nbformat": 4,
  "nbformat_minor": 0
}